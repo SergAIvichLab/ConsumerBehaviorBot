{
 "cells": [
  {
   "cell_type": "code",
   "execution_count": 1,
   "id": "13063d53-dc31-4beb-8135-acf090e54644",
   "metadata": {},
   "outputs": [],
   "source": [
    "import pandas as pd\n",
    "import numpy as np\n",
    "\n",
    "from langchain_core.output_parsers import JsonOutputParser\n",
    "from langchain_core.prompts import PromptTemplate\n",
    "from langchain_core.pydantic_v1 import BaseModel, Field\n",
    "from langchain_openai import ChatOpenAI\n",
    "from langchain_openai import OpenAI\n",
    "from langchain_core.prompts import ChatPromptTemplate"
   ]
  },
  {
   "cell_type": "code",
   "execution_count": 2,
   "id": "11d1f0b8-88b8-454c-901d-0a6c5587d575",
   "metadata": {},
   "outputs": [],
   "source": [
    "df = pd.read_excel('RAG/chunks.xlsx')"
   ]
  },
  {
   "cell_type": "code",
   "execution_count": 21,
   "id": "14b723c6-fed8-4eb1-be03-d283b8c363ff",
   "metadata": {},
   "outputs": [],
   "source": [
    "def create_questions(text):\n",
    "    model = ChatOpenAI(model='gpt-4o-mini-2024-07-18', max_tokens=1024, api_key='sk-WjFjU5gAjCTONWmXtUsUksWsO6GHbJvo', base_url = 'https://api.proxyapi.ru/openai/v1', temperature = 0.1)\n",
    "    \n",
    "    sys_prompt = \"\"\"\n",
    "        Ситуация: пользователь задает вопросы ИИ-ассистенту, в знаниях которого есть образовательный контент с курса о методике OKR (Objectives and Key Results)\n",
    "        Внимательно прочитай текст и придумай к нему 3 вопроса, на которые в этом тексте есть ответ. Вот сам текст \\n{text}\\n.\n",
    "        1. Придумай открытые вопросы, на которые нельзя ответить просто да или нет.​\n",
    "        2. Всегда формулируйте очень краткие и четкие вопросы (менее 15 слов), которые пользователь может задать ИИ-ассистенту, чтобы получить ответ основываясь на этом тексте.\n",
    "        3. НЕ создавай одинаковые или схожие вопросы.​\n",
    "        4. САМОЕ ВАЖНОЕ - создавай только ТЕ вопросы, на которые в тексте ЕСТЬ ОТВЕТ.\n",
    "        4. Выдай ответ в JSON словаре, где каждый ключ имеет в названии слово question и порядковый номер вопроса.\n",
    "        \"\"\"\n",
    "    \n",
    "    prompt = ChatPromptTemplate.from_messages([\n",
    "        (\"system\", sys_prompt),\n",
    "        (\"human\", \"{text}\"),\n",
    "    ])\n",
    "        \n",
    "    # Define the chain using LCEL Соединение модели и промпта через |\n",
    "    class ThreeExtraQuestions(BaseModel):\n",
    "        question1: str = Field(description=\"Первый вопрос\")\n",
    "        question2: str = Field(description=\"Второй вопрос\")\n",
    "        question3: str = Field(description=\"Третий вопрос\")\n",
    "    \n",
    "    # Set up a parser + inject instructions into the prompt template.\n",
    "    parser = JsonOutputParser(pydantic_object=ThreeExtraQuestions)\n",
    "    #а Персональные OKR - хороший инструмент целеполагания сотрудников, рекомендуется при начале внедрения OKR?\n",
    "    chain = prompt | model | parser\n",
    "    inv = chain.invoke({'text':text})\n",
    "    return inv"
   ]
  },
  {
   "cell_type": "code",
   "execution_count": 35,
   "id": "5627f710-0958-4397-86a8-6819a7ee0512",
   "metadata": {
    "scrolled": true
   },
   "outputs": [
    {
     "name": "stdout",
     "output_type": "stream",
     "text": [
      "1\n",
      "2\n",
      "3\n",
      "4\n",
      "5\n",
      "6\n",
      "7\n",
      "8\n",
      "9\n",
      "10\n",
      "11\n",
      "12\n",
      "13\n",
      "14\n",
      "15\n",
      "16\n",
      "17\n",
      "18\n",
      "19\n",
      "20\n",
      "21\n",
      "22\n",
      "23\n",
      "24\n",
      "25\n",
      "26\n",
      "27\n",
      "28\n",
      "29\n",
      "30\n",
      "31\n",
      "32\n",
      "33\n",
      "34\n",
      "35\n",
      "36\n",
      "37\n",
      "38\n",
      "39\n",
      "40\n",
      "41\n",
      "42\n",
      "43\n",
      "44\n",
      "45\n",
      "46\n",
      "47\n",
      "48\n",
      "49\n",
      "50\n",
      "51\n",
      "52\n",
      "53\n",
      "54\n",
      "55\n",
      "56\n",
      "57\n",
      "58\n",
      "59\n",
      "60\n",
      "61\n",
      "62\n",
      "63\n",
      "64\n",
      "65\n",
      "66\n",
      "67\n",
      "68\n",
      "69\n",
      "70\n",
      "71\n",
      "72\n",
      "73\n",
      "74\n",
      "75\n",
      "76\n",
      "77\n",
      "78\n",
      "79\n",
      "80\n",
      "81\n",
      "82\n",
      "83\n",
      "84\n",
      "85\n",
      "86\n",
      "87\n",
      "88\n",
      "89\n",
      "90\n",
      "91\n",
      "92\n",
      "93\n",
      "94\n",
      "95\n",
      "96\n",
      "97\n",
      "98\n",
      "99\n",
      "100\n",
      "101\n",
      "102\n",
      "103\n",
      "104\n",
      "105\n",
      "106\n",
      "107\n",
      "108\n",
      "109\n",
      "110\n",
      "111\n",
      "112\n",
      "113\n",
      "114\n",
      "115\n",
      "116\n",
      "117\n",
      "118\n",
      "119\n",
      "120\n",
      "121\n",
      "122\n",
      "123\n",
      "124\n",
      "125\n",
      "126\n",
      "127\n",
      "128\n",
      "129\n",
      "130\n",
      "131\n",
      "132\n",
      "133\n",
      "134\n",
      "135\n",
      "136\n"
     ]
    }
   ],
   "source": [
    "questions_list = []\n",
    "num=0\n",
    "for i in df['Text']:\n",
    "    num+=1\n",
    "    q_l = create_questions(i)\n",
    "    questions_list.append(q_l)\n",
    "    print(num)"
   ]
  },
  {
   "cell_type": "code",
   "execution_count": 32,
   "id": "ce71ece4-3a3f-49ce-bc92-b4cdc147c889",
   "metadata": {},
   "outputs": [
    {
     "data": {
      "text/plain": [
       "'Вторая, связанная с первой проблема – мало кто в компании знает эти стратегические приоритеты. \\nВ MIT исследовали, как по 4-уровневой типовой иерархии компании падает знание стратегических приоритетов в зависимости от движения сверху вниз.\\nТоп-менеджмент знает порядка 50%. Для миддлов и ниже этот процент падает до 15-20, при этом последние обычно отвечают за исполнение стратегии. \\nКак можно говорить об успешной реализации стратегии, если мы видим только ее кусочек?\\n'"
      ]
     },
     "execution_count": 32,
     "metadata": {},
     "output_type": "execute_result"
    }
   ],
   "source": [
    "df['Text'][2]"
   ]
  },
  {
   "cell_type": "code",
   "execution_count": 43,
   "id": "a7a121e2-f301-4b26-b939-c015f4dc9a0d",
   "metadata": {},
   "outputs": [],
   "source": [
    "for_col = []\n",
    "for dct in questions_list:\n",
    "    for_col.append(' '.join(i for i in dct.values()))"
   ]
  },
  {
   "cell_type": "code",
   "execution_count": 45,
   "id": "992ae6c8-4af6-4895-83f6-35e2e2553e48",
   "metadata": {},
   "outputs": [],
   "source": [
    "df['questions'] = for_col"
   ]
  },
  {
   "cell_type": "code",
   "execution_count": 47,
   "id": "8d147a40-cf1a-4a47-b2d2-7e323b38eae0",
   "metadata": {},
   "outputs": [],
   "source": [
    "df['NewText'] = df['questions'] + '\\n\\n' + df['Text']"
   ]
  },
  {
   "cell_type": "code",
   "execution_count": 50,
   "id": "47c7d8a0-e8bf-4a25-bd08-6349f435b7ec",
   "metadata": {},
   "outputs": [
    {
     "name": "stdout",
     "output_type": "stream",
     "text": [
      "С какой темы начинается видео о методике OKR? Что будет рассмотрено после вопроса о необходимости изменений в целеполагании? Какие примеры будут разобраны в видео о методике OKR?\n",
      "\n",
      "В этом первом видео мы разберем определение и критерии OKR – то есть целей и ключевых результатов.\n",
      "А начнем мы с вопроса “зачем вообще что-то менять целеполагании?”, затем продолжим вопросом “что такое OKR?”, и разберем примеры хороших и плохих целей и ключевых результатов.\n"
     ]
    }
   ],
   "source": [
    "print(df['NewText'][0])"
   ]
  },
  {
   "cell_type": "code",
   "execution_count": 51,
   "id": "bc051102-aeb1-4771-882f-a49fd84c6c82",
   "metadata": {},
   "outputs": [],
   "source": [
    "df.to_excel('new_chunks.xlsx')"
   ]
  }
 ],
 "metadata": {
  "kernelspec": {
   "display_name": "Python 3 (ipykernel)",
   "language": "python",
   "name": "python3"
  },
  "language_info": {
   "codemirror_mode": {
    "name": "ipython",
    "version": 3
   },
   "file_extension": ".py",
   "mimetype": "text/x-python",
   "name": "python",
   "nbconvert_exporter": "python",
   "pygments_lexer": "ipython3",
   "version": "3.11.9"
  }
 },
 "nbformat": 4,
 "nbformat_minor": 5
}
