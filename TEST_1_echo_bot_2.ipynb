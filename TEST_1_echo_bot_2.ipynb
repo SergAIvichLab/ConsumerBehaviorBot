{
 "cells": [
  {
   "cell_type": "code",
   "execution_count": null,
   "id": "2b6143b9-0c91-4815-af07-2d2158d3ddd6",
   "metadata": {},
   "outputs": [],
   "source": [
    "# !pip install telebot==0.0.5"
   ]
  },
  {
   "cell_type": "code",
   "execution_count": null,
   "id": "1481934a-b817-4d63-91b6-c7c1e544552f",
   "metadata": {},
   "outputs": [],
   "source": [
    "# !pip install pandas\n",
    "# !pip install numpy\n",
    "# !pip install schedule"
   ]
  },
  {
   "cell_type": "code",
   "execution_count": 2,
   "id": "d598556e-48e6-4f47-be1d-58e3e91a29b1",
   "metadata": {},
   "outputs": [],
   "source": [
    "# import pandas as pd\n",
    "# import numpy as np\n",
    "# import telebot\n",
    "# import time\n",
    "# import telebot\n",
    "# import schedule\n",
    "# import time\n",
    "# from datetime import datetime\n",
    "# import threading"
   ]
  },
  {
   "cell_type": "code",
   "execution_count": 20,
   "id": "cce436ce-4ee5-4e5a-b067-0d6e24c15bcf",
   "metadata": {},
   "outputs": [
    {
     "name": "stdout",
     "output_type": "stream",
     "text": [
      "Бот запущен...\n"
     ]
    }
   ],
   "source": [
    "import telebot\n",
    "import schedule\n",
    "import time\n",
    "import threading\n",
    "from datetime import datetime\n",
    "\n",
    "# Создаем экземпляр бота (замените 'YOUR_BOT_TOKEN' на токен от BotFather)\n",
    "bot = telebot.TeleBot('7658398564:AAEHMN2DH3odfLSoxiq6oZtkHga8z1MfX7E')\n",
    "\n",
    "# Данные из таблицы в виде списка словарей\n",
    "users_data = [\n",
    "    {\n",
    "        \"chat_id\": 850149704,\n",
    "        \"dz_bool\": 0,\n",
    "        \"send_time\": \"07.03.2025, 16:28\",\n",
    "        \"name\": \"Александр\",\n",
    "        \"message_sent\": False  # Флаг для отслеживания отправки сообщения\n",
    "    },\n",
    "    {\n",
    "        \"chat_id\": 426803001,\n",
    "        \"dz_bool\": 1,\n",
    "        \"send_time\": \"07.03.2025, 16:28\",\n",
    "        \"name\": \"Влад\",\n",
    "        \"message_sent\": False\n",
    "    },\n",
    "    {\n",
    "        \"chat_id\": 1078826317,\n",
    "        \"dz_bool\": 0,\n",
    "        \"send_time\": \"07.03.2025, 16:26\",\n",
    "        \"name\": \"Руслана\",\n",
    "        \"message_sent\": False\n",
    "    }\n",
    "]\n",
    "\n",
    "# Блокировка для синхронизации доступа к users_data\n",
    "users_data_lock = threading.Lock()\n",
    "\n",
    "# Функция для отправки сообщения\n",
    "def send_message_to_user(user):\n",
    "    chat_id = user[\"chat_id\"]\n",
    "    name = user[\"name\"]\n",
    "    dz_bool = user[\"dz_bool\"]\n",
    "    \n",
    "    # Формируем текст сообщения в зависимости от dz_bool\n",
    "    if dz_bool == 1:\n",
    "        message_text = f\"Поздравляю, {name}, ты вошёл в 30% выполневших домашнее задание студентов нашего курса!\"\n",
    "    else:\n",
    "        message_text = f\"{name}, не забудьте отправить домашнее задание по теме: 'Я чемпион, я победитель, я TRUMP'.\"\n",
    "    \n",
    "    try:\n",
    "        bot.send_message(chat_id, message_text)\n",
    "        print(f\"Сообщение отправлено пользователю {chat_id} ({name})\")\n",
    "        user[\"message_sent\"] = True  # Помечаем сообщение как отправленное\n",
    "    except telebot.apihelper.ApiTelegramException as e:\n",
    "        print(f\"Не удалось отправить сообщение пользователю {chat_id} ({name}): {e}\")\n",
    "\n",
    "# Функция для проверки и отправки сообщений\n",
    "def check_and_send_messages():\n",
    "    current_time = datetime.now().strftime(\"%d.%m.%Y, %H:%M\")\n",
    "    print(f\"Проверка времени: {current_time}\")\n",
    "    \n",
    "    # Блокируем доступ к users_data для других потоков\n",
    "    with users_data_lock:\n",
    "        for user in users_data:\n",
    "            if user[\"send_time\"] == current_time and not user[\"message_sent\"]:\n",
    "                send_message_to_user(user)\n",
    "\n",
    "# Настройка расписания (проверка каждую минуту)\n",
    "schedule.every(45).seconds.do(check_and_send_messages)\n",
    "\n",
    "# Основной цикл для проверки расписания\n",
    "def run_scheduler():\n",
    "    while True:\n",
    "        schedule.run_pending()\n",
    "        time.sleep(30)  # Проверка каждые 30 секунд\n",
    "\n",
    "# Запуск бота\n",
    "if __name__ == '__main__':\n",
    "    print('Бот запущен...')\n",
    "\n",
    "    scheduler_thread = threading.Thread(target=run_scheduler)\n",
    "    scheduler_thread.start()\n",
    "    bot.polling(none_stop=True)\n",
    "    schedule.clear()"
   ]
  },
  {
   "cell_type": "code",
   "execution_count": null,
   "id": "172bbd6a-eb28-4425-99da-d4724c947563",
   "metadata": {},
   "outputs": [],
   "source": []
  },
  {
   "cell_type": "code",
   "execution_count": null,
   "id": "89a93cf1-0b86-4700-956b-8bd1bd362031",
   "metadata": {},
   "outputs": [],
   "source": []
  }
 ],
 "metadata": {
  "kernelspec": {
   "display_name": "Python 3 (ipykernel)",
   "language": "python",
   "name": "python3"
  },
  "language_info": {
   "codemirror_mode": {
    "name": "ipython",
    "version": 3
   },
   "file_extension": ".py",
   "mimetype": "text/x-python",
   "name": "python",
   "nbconvert_exporter": "python",
   "pygments_lexer": "ipython3",
   "version": "3.11.9"
  }
 },
 "nbformat": 4,
 "nbformat_minor": 5
}
